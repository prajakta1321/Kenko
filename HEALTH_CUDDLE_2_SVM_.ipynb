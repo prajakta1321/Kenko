{
  "nbformat": 4,
  "nbformat_minor": 0,
  "metadata": {
    "colab": {
      "provenance": []
    },
    "kernelspec": {
      "name": "python3",
      "display_name": "Python 3"
    },
    "language_info": {
      "name": "python"
    }
  },
  "cells": [
    {
      "cell_type": "markdown",
      "source": [
        "Support Vector Machine"
      ],
      "metadata": {
        "id": "vtn3AlXuEiRg"
      }
    },
    {
      "cell_type": "code",
      "source": [
        "# importing libraries\n",
        "import pandas as pd\n",
        "import numpy as np\n",
        "import matplotlib.pyplot as plt\n",
        "%matplotlib inline\n",
        "# reading the dataset\n",
        "df = pd.read_csv(\"HEALTH_CUDDLE_2.csv\")"
      ],
      "metadata": {
        "id": "YLsF4LuGEpfA"
      },
      "execution_count": null,
      "outputs": []
    },
    {
      "cell_type": "code",
      "source": [
        "# print the names of the features\n",
        "print(\"Features: \", df)\n",
        "\n",
        "#or  print the label type\n",
        "#print(\"Labels: \", df)\n"
      ],
      "metadata": {
        "colab": {
          "base_uri": "https://localhost:8080/"
        },
        "id": "9TZPKHxhoghF",
        "outputId": "923b0125-313d-449d-fd58-a6e0c03c25f4"
      },
      "execution_count": null,
      "outputs": [
        {
          "output_type": "stream",
          "name": "stdout",
          "text": [
            "Features:      regular_food_type  Number_of_outside_food_per_month  \\\n",
            "0           HOME-MADE                                10   \n",
            "1           HOME-MADE                                15   \n",
            "2           HOME-MADE                                 8   \n",
            "3           HOME-MADE                                 8   \n",
            "4           HOME-MADE                                 2   \n",
            "..                ...                               ...   \n",
            "148              both                                 5   \n",
            "149              both                                 3   \n",
            "150         HOME-MADE                                 3   \n",
            "151              both                                 3   \n",
            "152         HOME-MADE                                 4   \n",
            "\n",
            "      meals_consumed_per_day  food_type constipation  less_energy_or_sleepy  \\\n",
            "0                          1       BOTH           No                     No   \n",
            "1                          2      SOLID           No                  Maybe   \n",
            "2                          1      SOLID          Yes                    Yes   \n",
            "3                          3       BOTH        Maybe                    Yes   \n",
            "4                          1      SOLID        Maybe                    Yes   \n",
            "..                       ...        ...          ...                    ...   \n",
            "148                        2       BOTH           No                    Yes   \n",
            "149                        2      SOLID           No                    Yes   \n",
            "150                        2      SOLID           No                    Yes   \n",
            "151                        2      SOLID          Yes                     No   \n",
            "152                        2      SOLID          Yes                    Yes   \n",
            "\n",
            "    addiction MoodSwings                          reason favourite_junkfood  \n",
            "0         Yes         No               friends influence     Indian dishes   \n",
            "1       Maybe         No                    living alone           Biryani   \n",
            "2         Yes        Yes               friends influence           Sharwama  \n",
            "3       Maybe         No               friends influence          Misal Pav  \n",
            "4       Maybe      Maybe               friends influence             Burger  \n",
            "..        ...        ...                             ...                ...  \n",
            "148       Yes        Yes               friends influence              Momos  \n",
            "149       Yes         No               friends influence            Noodles  \n",
            "150       Yes         No  junk food availability at home            Waffles  \n",
            "151       Yes         No                    living alone             Frooti  \n",
            "152       Yes         No               friends influence         Fried rice  \n",
            "\n",
            "[153 rows x 10 columns]\n"
          ]
        }
      ]
    },
    {
      "cell_type": "markdown",
      "source": [
        "Model Training"
      ],
      "metadata": {
        "id": "OsRaH0gOCZdK"
      }
    },
    {
      "cell_type": "code",
      "source": [
        " # Import train_test_split function\n",
        "from sklearn.model_selection import train_test_split\n",
        "#from sklearn.metrics import log_loss, roc_auc_score, recall_score, precision_score, average_precision_score, f1_score, classification_report, accuracy_score, plot_roc_curve, plot_precision_recall_curve, plot_confusion_matrix\n",
        "from sklearn.metrics import classification_report , accuracy_score\n",
        "from sklearn.metrics import confusion_matrix\n",
        "from sklearn.linear_model import LogisticRegression\n",
        "from sklearn import metrics\n",
        "import seaborn as sns"
      ],
      "metadata": {
        "id": "CvNN9nZdoxtl"
      },
      "execution_count": null,
      "outputs": []
    },
    {
      "cell_type": "code",
      "source": [
        "from sklearn.linear_model import Perceptron, LogisticRegression\n",
        "from sklearn.svm import SVC\n",
        "from sklearn.preprocessing import StandardScaler\n",
        "from sklearn import datasets"
      ],
      "metadata": {
        "id": "YVCd_P4VoUFw"
      },
      "execution_count": null,
      "outputs": []
    },
    {
      "cell_type": "code",
      "source": [
        "categorical_columns = ['regular_food_type',' food_type','constipation',' less_energy_or_sleepy','addiction','MoodSwings']\n",
        "numeric_columns = [' quantity_consumed_per_day','']\n",
        "\n",
        "categorical_columns = list(set(df.columns) - set(numeric_columns) )\n",
        "categorical_columns.sort()\n",
        "\n",
        "print(numeric_columns)\n",
        "print(categorical_columns)"
      ],
      "metadata": {
        "colab": {
          "base_uri": "https://localhost:8080/"
        },
        "id": "YtfH_rqDYnQl",
        "outputId": "ae5446e0-5093-4a16-b202-755a789ceb98"
      },
      "execution_count": null,
      "outputs": [
        {
          "output_type": "stream",
          "name": "stdout",
          "text": [
            "[' quantity_consumed_per_day', '']\n",
            "[' food_type', ' less_energy_or_sleepy', ' meals_consumed_per_day', ' reason', 'MoodSwings', 'Number_of_outside_food_per_month', 'addiction', 'constipation', 'favourite_junkfood', 'regular_food_type']\n"
          ]
        }
      ]
    },
    {
      "cell_type": "code",
      "source": [
        "columns = ['regular_food_type',' meals_consumed_per_day',' food_type','constipation',' less_energy_or_sleepy','addiction','MoodSwings',' reason']\n",
        "\n",
        "df = pd.get_dummies(df, columns=columns, drop_first=True)\n"
      ],
      "metadata": {
        "id": "H-VYa_qKo5qW"
      },
      "execution_count": null,
      "outputs": []
    },
    {
      "cell_type": "code",
      "source": [
        "df"
      ],
      "metadata": {
        "colab": {
          "base_uri": "https://localhost:8080/",
          "height": 539
        },
        "id": "SjeaO-PUchDz",
        "outputId": "711bc2db-0207-4a14-dfd8-b75e400c4fe1"
      },
      "execution_count": null,
      "outputs": [
        {
          "output_type": "execute_result",
          "data": {
            "text/plain": [
              "     Number_of_outside_food_per_month favourite_junkfood  \\\n",
              "0                                  10     Indian dishes    \n",
              "1                                  15           Biryani    \n",
              "2                                   8           Sharwama   \n",
              "3                                   8          Misal Pav   \n",
              "4                                   2             Burger   \n",
              "..                                ...                ...   \n",
              "148                                 5              Momos   \n",
              "149                                 3            Noodles   \n",
              "150                                 3            Waffles   \n",
              "151                                 3             Frooti   \n",
              "152                                 4         Fried rice   \n",
              "\n",
              "     regular_food_type_OUTSIDE  regular_food_type_both  \\\n",
              "0                            0                       0   \n",
              "1                            0                       0   \n",
              "2                            0                       0   \n",
              "3                            0                       0   \n",
              "4                            0                       0   \n",
              "..                         ...                     ...   \n",
              "148                          0                       1   \n",
              "149                          0                       1   \n",
              "150                          0                       0   \n",
              "151                          0                       1   \n",
              "152                          0                       0   \n",
              "\n",
              "      meals_consumed_per_day_1   meals_consumed_per_day_2  \\\n",
              "0                            1                          0   \n",
              "1                            0                          1   \n",
              "2                            1                          0   \n",
              "3                            0                          0   \n",
              "4                            1                          0   \n",
              "..                         ...                        ...   \n",
              "148                          0                          1   \n",
              "149                          0                          1   \n",
              "150                          0                          1   \n",
              "151                          0                          1   \n",
              "152                          0                          1   \n",
              "\n",
              "      meals_consumed_per_day_3   food_type_LIQUID   food_type_NAN  \\\n",
              "0                            0                  0               0   \n",
              "1                            0                  0               0   \n",
              "2                            0                  0               0   \n",
              "3                            1                  0               0   \n",
              "4                            0                  0               0   \n",
              "..                         ...                ...             ...   \n",
              "148                          0                  0               0   \n",
              "149                          0                  0               0   \n",
              "150                          0                  0               0   \n",
              "151                          0                  0               0   \n",
              "152                          0                  0               0   \n",
              "\n",
              "      food_type_SOLID  ...  addiction_Yes  MoodSwings_NAN  MoodSwings_No  \\\n",
              "0                   0  ...              1               0              1   \n",
              "1                   1  ...              0               0              1   \n",
              "2                   1  ...              1               0              0   \n",
              "3                   0  ...              0               0              1   \n",
              "4                   1  ...              0               0              0   \n",
              "..                ...  ...            ...             ...            ...   \n",
              "148                 0  ...              1               0              0   \n",
              "149                 1  ...              1               0              1   \n",
              "150                 1  ...              1               0              1   \n",
              "151                 1  ...              1               0              1   \n",
              "152                 1  ...              1               0              1   \n",
              "\n",
              "     MoodSwings_Yes   reason_friends influence   reason_friends influence   \\\n",
              "0                 0                          1                           0   \n",
              "1                 0                          0                           0   \n",
              "2                 1                          1                           0   \n",
              "3                 0                          1                           0   \n",
              "4                 0                          1                           0   \n",
              "..              ...                        ...                         ...   \n",
              "148               1                          1                           0   \n",
              "149               0                          1                           0   \n",
              "150               0                          0                           0   \n",
              "151               0                          0                           0   \n",
              "152               0                          1                           0   \n",
              "\n",
              "      reason_i dont eat outside food   reason_junk food availability at home  \\\n",
              "0                                  0                                       0   \n",
              "1                                  0                                       0   \n",
              "2                                  0                                       0   \n",
              "3                                  0                                       0   \n",
              "4                                  0                                       0   \n",
              "..                               ...                                     ...   \n",
              "148                                0                                       0   \n",
              "149                                0                                       0   \n",
              "150                                0                                       1   \n",
              "151                                0                                       0   \n",
              "152                                0                                       0   \n",
              "\n",
              "      reason_junk food availability at home    reason_living alone  \n",
              "0                                          0                     0  \n",
              "1                                          0                     1  \n",
              "2                                          0                     0  \n",
              "3                                          0                     0  \n",
              "4                                          0                     0  \n",
              "..                                       ...                   ...  \n",
              "148                                        0                     0  \n",
              "149                                        0                     0  \n",
              "150                                        0                     0  \n",
              "151                                        0                     1  \n",
              "152                                        0                     0  \n",
              "\n",
              "[153 rows x 27 columns]"
            ],
            "text/html": [
              "\n",
              "  <div id=\"df-ea23298d-93cc-4420-b32e-50f085681ae5\">\n",
              "    <div class=\"colab-df-container\">\n",
              "      <div>\n",
              "<style scoped>\n",
              "    .dataframe tbody tr th:only-of-type {\n",
              "        vertical-align: middle;\n",
              "    }\n",
              "\n",
              "    .dataframe tbody tr th {\n",
              "        vertical-align: top;\n",
              "    }\n",
              "\n",
              "    .dataframe thead th {\n",
              "        text-align: right;\n",
              "    }\n",
              "</style>\n",
              "<table border=\"1\" class=\"dataframe\">\n",
              "  <thead>\n",
              "    <tr style=\"text-align: right;\">\n",
              "      <th></th>\n",
              "      <th>Number_of_outside_food_per_month</th>\n",
              "      <th>favourite_junkfood</th>\n",
              "      <th>regular_food_type_OUTSIDE</th>\n",
              "      <th>regular_food_type_both</th>\n",
              "      <th>meals_consumed_per_day_1</th>\n",
              "      <th>meals_consumed_per_day_2</th>\n",
              "      <th>meals_consumed_per_day_3</th>\n",
              "      <th>food_type_LIQUID</th>\n",
              "      <th>food_type_NAN</th>\n",
              "      <th>food_type_SOLID</th>\n",
              "      <th>...</th>\n",
              "      <th>addiction_Yes</th>\n",
              "      <th>MoodSwings_NAN</th>\n",
              "      <th>MoodSwings_No</th>\n",
              "      <th>MoodSwings_Yes</th>\n",
              "      <th>reason_friends influence</th>\n",
              "      <th>reason_friends influence</th>\n",
              "      <th>reason_i dont eat outside food</th>\n",
              "      <th>reason_junk food availability at home</th>\n",
              "      <th>reason_junk food availability at home</th>\n",
              "      <th>reason_living alone</th>\n",
              "    </tr>\n",
              "  </thead>\n",
              "  <tbody>\n",
              "    <tr>\n",
              "      <th>0</th>\n",
              "      <td>10</td>\n",
              "      <td>Indian dishes</td>\n",
              "      <td>0</td>\n",
              "      <td>0</td>\n",
              "      <td>1</td>\n",
              "      <td>0</td>\n",
              "      <td>0</td>\n",
              "      <td>0</td>\n",
              "      <td>0</td>\n",
              "      <td>0</td>\n",
              "      <td>...</td>\n",
              "      <td>1</td>\n",
              "      <td>0</td>\n",
              "      <td>1</td>\n",
              "      <td>0</td>\n",
              "      <td>1</td>\n",
              "      <td>0</td>\n",
              "      <td>0</td>\n",
              "      <td>0</td>\n",
              "      <td>0</td>\n",
              "      <td>0</td>\n",
              "    </tr>\n",
              "    <tr>\n",
              "      <th>1</th>\n",
              "      <td>15</td>\n",
              "      <td>Biryani</td>\n",
              "      <td>0</td>\n",
              "      <td>0</td>\n",
              "      <td>0</td>\n",
              "      <td>1</td>\n",
              "      <td>0</td>\n",
              "      <td>0</td>\n",
              "      <td>0</td>\n",
              "      <td>1</td>\n",
              "      <td>...</td>\n",
              "      <td>0</td>\n",
              "      <td>0</td>\n",
              "      <td>1</td>\n",
              "      <td>0</td>\n",
              "      <td>0</td>\n",
              "      <td>0</td>\n",
              "      <td>0</td>\n",
              "      <td>0</td>\n",
              "      <td>0</td>\n",
              "      <td>1</td>\n",
              "    </tr>\n",
              "    <tr>\n",
              "      <th>2</th>\n",
              "      <td>8</td>\n",
              "      <td>Sharwama</td>\n",
              "      <td>0</td>\n",
              "      <td>0</td>\n",
              "      <td>1</td>\n",
              "      <td>0</td>\n",
              "      <td>0</td>\n",
              "      <td>0</td>\n",
              "      <td>0</td>\n",
              "      <td>1</td>\n",
              "      <td>...</td>\n",
              "      <td>1</td>\n",
              "      <td>0</td>\n",
              "      <td>0</td>\n",
              "      <td>1</td>\n",
              "      <td>1</td>\n",
              "      <td>0</td>\n",
              "      <td>0</td>\n",
              "      <td>0</td>\n",
              "      <td>0</td>\n",
              "      <td>0</td>\n",
              "    </tr>\n",
              "    <tr>\n",
              "      <th>3</th>\n",
              "      <td>8</td>\n",
              "      <td>Misal Pav</td>\n",
              "      <td>0</td>\n",
              "      <td>0</td>\n",
              "      <td>0</td>\n",
              "      <td>0</td>\n",
              "      <td>1</td>\n",
              "      <td>0</td>\n",
              "      <td>0</td>\n",
              "      <td>0</td>\n",
              "      <td>...</td>\n",
              "      <td>0</td>\n",
              "      <td>0</td>\n",
              "      <td>1</td>\n",
              "      <td>0</td>\n",
              "      <td>1</td>\n",
              "      <td>0</td>\n",
              "      <td>0</td>\n",
              "      <td>0</td>\n",
              "      <td>0</td>\n",
              "      <td>0</td>\n",
              "    </tr>\n",
              "    <tr>\n",
              "      <th>4</th>\n",
              "      <td>2</td>\n",
              "      <td>Burger</td>\n",
              "      <td>0</td>\n",
              "      <td>0</td>\n",
              "      <td>1</td>\n",
              "      <td>0</td>\n",
              "      <td>0</td>\n",
              "      <td>0</td>\n",
              "      <td>0</td>\n",
              "      <td>1</td>\n",
              "      <td>...</td>\n",
              "      <td>0</td>\n",
              "      <td>0</td>\n",
              "      <td>0</td>\n",
              "      <td>0</td>\n",
              "      <td>1</td>\n",
              "      <td>0</td>\n",
              "      <td>0</td>\n",
              "      <td>0</td>\n",
              "      <td>0</td>\n",
              "      <td>0</td>\n",
              "    </tr>\n",
              "    <tr>\n",
              "      <th>...</th>\n",
              "      <td>...</td>\n",
              "      <td>...</td>\n",
              "      <td>...</td>\n",
              "      <td>...</td>\n",
              "      <td>...</td>\n",
              "      <td>...</td>\n",
              "      <td>...</td>\n",
              "      <td>...</td>\n",
              "      <td>...</td>\n",
              "      <td>...</td>\n",
              "      <td>...</td>\n",
              "      <td>...</td>\n",
              "      <td>...</td>\n",
              "      <td>...</td>\n",
              "      <td>...</td>\n",
              "      <td>...</td>\n",
              "      <td>...</td>\n",
              "      <td>...</td>\n",
              "      <td>...</td>\n",
              "      <td>...</td>\n",
              "      <td>...</td>\n",
              "    </tr>\n",
              "    <tr>\n",
              "      <th>148</th>\n",
              "      <td>5</td>\n",
              "      <td>Momos</td>\n",
              "      <td>0</td>\n",
              "      <td>1</td>\n",
              "      <td>0</td>\n",
              "      <td>1</td>\n",
              "      <td>0</td>\n",
              "      <td>0</td>\n",
              "      <td>0</td>\n",
              "      <td>0</td>\n",
              "      <td>...</td>\n",
              "      <td>1</td>\n",
              "      <td>0</td>\n",
              "      <td>0</td>\n",
              "      <td>1</td>\n",
              "      <td>1</td>\n",
              "      <td>0</td>\n",
              "      <td>0</td>\n",
              "      <td>0</td>\n",
              "      <td>0</td>\n",
              "      <td>0</td>\n",
              "    </tr>\n",
              "    <tr>\n",
              "      <th>149</th>\n",
              "      <td>3</td>\n",
              "      <td>Noodles</td>\n",
              "      <td>0</td>\n",
              "      <td>1</td>\n",
              "      <td>0</td>\n",
              "      <td>1</td>\n",
              "      <td>0</td>\n",
              "      <td>0</td>\n",
              "      <td>0</td>\n",
              "      <td>1</td>\n",
              "      <td>...</td>\n",
              "      <td>1</td>\n",
              "      <td>0</td>\n",
              "      <td>1</td>\n",
              "      <td>0</td>\n",
              "      <td>1</td>\n",
              "      <td>0</td>\n",
              "      <td>0</td>\n",
              "      <td>0</td>\n",
              "      <td>0</td>\n",
              "      <td>0</td>\n",
              "    </tr>\n",
              "    <tr>\n",
              "      <th>150</th>\n",
              "      <td>3</td>\n",
              "      <td>Waffles</td>\n",
              "      <td>0</td>\n",
              "      <td>0</td>\n",
              "      <td>0</td>\n",
              "      <td>1</td>\n",
              "      <td>0</td>\n",
              "      <td>0</td>\n",
              "      <td>0</td>\n",
              "      <td>1</td>\n",
              "      <td>...</td>\n",
              "      <td>1</td>\n",
              "      <td>0</td>\n",
              "      <td>1</td>\n",
              "      <td>0</td>\n",
              "      <td>0</td>\n",
              "      <td>0</td>\n",
              "      <td>0</td>\n",
              "      <td>1</td>\n",
              "      <td>0</td>\n",
              "      <td>0</td>\n",
              "    </tr>\n",
              "    <tr>\n",
              "      <th>151</th>\n",
              "      <td>3</td>\n",
              "      <td>Frooti</td>\n",
              "      <td>0</td>\n",
              "      <td>1</td>\n",
              "      <td>0</td>\n",
              "      <td>1</td>\n",
              "      <td>0</td>\n",
              "      <td>0</td>\n",
              "      <td>0</td>\n",
              "      <td>1</td>\n",
              "      <td>...</td>\n",
              "      <td>1</td>\n",
              "      <td>0</td>\n",
              "      <td>1</td>\n",
              "      <td>0</td>\n",
              "      <td>0</td>\n",
              "      <td>0</td>\n",
              "      <td>0</td>\n",
              "      <td>0</td>\n",
              "      <td>0</td>\n",
              "      <td>1</td>\n",
              "    </tr>\n",
              "    <tr>\n",
              "      <th>152</th>\n",
              "      <td>4</td>\n",
              "      <td>Fried rice</td>\n",
              "      <td>0</td>\n",
              "      <td>0</td>\n",
              "      <td>0</td>\n",
              "      <td>1</td>\n",
              "      <td>0</td>\n",
              "      <td>0</td>\n",
              "      <td>0</td>\n",
              "      <td>1</td>\n",
              "      <td>...</td>\n",
              "      <td>1</td>\n",
              "      <td>0</td>\n",
              "      <td>1</td>\n",
              "      <td>0</td>\n",
              "      <td>1</td>\n",
              "      <td>0</td>\n",
              "      <td>0</td>\n",
              "      <td>0</td>\n",
              "      <td>0</td>\n",
              "      <td>0</td>\n",
              "    </tr>\n",
              "  </tbody>\n",
              "</table>\n",
              "<p>153 rows × 27 columns</p>\n",
              "</div>\n",
              "      <button class=\"colab-df-convert\" onclick=\"convertToInteractive('df-ea23298d-93cc-4420-b32e-50f085681ae5')\"\n",
              "              title=\"Convert this dataframe to an interactive table.\"\n",
              "              style=\"display:none;\">\n",
              "        \n",
              "  <svg xmlns=\"http://www.w3.org/2000/svg\" height=\"24px\"viewBox=\"0 0 24 24\"\n",
              "       width=\"24px\">\n",
              "    <path d=\"M0 0h24v24H0V0z\" fill=\"none\"/>\n",
              "    <path d=\"M18.56 5.44l.94 2.06.94-2.06 2.06-.94-2.06-.94-.94-2.06-.94 2.06-2.06.94zm-11 1L8.5 8.5l.94-2.06 2.06-.94-2.06-.94L8.5 2.5l-.94 2.06-2.06.94zm10 10l.94 2.06.94-2.06 2.06-.94-2.06-.94-.94-2.06-.94 2.06-2.06.94z\"/><path d=\"M17.41 7.96l-1.37-1.37c-.4-.4-.92-.59-1.43-.59-.52 0-1.04.2-1.43.59L10.3 9.45l-7.72 7.72c-.78.78-.78 2.05 0 2.83L4 21.41c.39.39.9.59 1.41.59.51 0 1.02-.2 1.41-.59l7.78-7.78 2.81-2.81c.8-.78.8-2.07 0-2.86zM5.41 20L4 18.59l7.72-7.72 1.47 1.35L5.41 20z\"/>\n",
              "  </svg>\n",
              "      </button>\n",
              "      \n",
              "  <style>\n",
              "    .colab-df-container {\n",
              "      display:flex;\n",
              "      flex-wrap:wrap;\n",
              "      gap: 12px;\n",
              "    }\n",
              "\n",
              "    .colab-df-convert {\n",
              "      background-color: #E8F0FE;\n",
              "      border: none;\n",
              "      border-radius: 50%;\n",
              "      cursor: pointer;\n",
              "      display: none;\n",
              "      fill: #1967D2;\n",
              "      height: 32px;\n",
              "      padding: 0 0 0 0;\n",
              "      width: 32px;\n",
              "    }\n",
              "\n",
              "    .colab-df-convert:hover {\n",
              "      background-color: #E2EBFA;\n",
              "      box-shadow: 0px 1px 2px rgba(60, 64, 67, 0.3), 0px 1px 3px 1px rgba(60, 64, 67, 0.15);\n",
              "      fill: #174EA6;\n",
              "    }\n",
              "\n",
              "    [theme=dark] .colab-df-convert {\n",
              "      background-color: #3B4455;\n",
              "      fill: #D2E3FC;\n",
              "    }\n",
              "\n",
              "    [theme=dark] .colab-df-convert:hover {\n",
              "      background-color: #434B5C;\n",
              "      box-shadow: 0px 1px 3px 1px rgba(0, 0, 0, 0.15);\n",
              "      filter: drop-shadow(0px 1px 2px rgba(0, 0, 0, 0.3));\n",
              "      fill: #FFFFFF;\n",
              "    }\n",
              "  </style>\n",
              "\n",
              "      <script>\n",
              "        const buttonEl =\n",
              "          document.querySelector('#df-ea23298d-93cc-4420-b32e-50f085681ae5 button.colab-df-convert');\n",
              "        buttonEl.style.display =\n",
              "          google.colab.kernel.accessAllowed ? 'block' : 'none';\n",
              "\n",
              "        async function convertToInteractive(key) {\n",
              "          const element = document.querySelector('#df-ea23298d-93cc-4420-b32e-50f085681ae5');\n",
              "          const dataTable =\n",
              "            await google.colab.kernel.invokeFunction('convertToInteractive',\n",
              "                                                     [key], {});\n",
              "          if (!dataTable) return;\n",
              "\n",
              "          const docLinkHtml = 'Like what you see? Visit the ' +\n",
              "            '<a target=\"_blank\" href=https://colab.research.google.com/notebooks/data_table.ipynb>data table notebook</a>'\n",
              "            + ' to learn more about interactive tables.';\n",
              "          element.innerHTML = '';\n",
              "          dataTable['output_type'] = 'display_data';\n",
              "          await google.colab.output.renderOutput(dataTable, element);\n",
              "          const docLink = document.createElement('div');\n",
              "          docLink.innerHTML = docLinkHtml;\n",
              "          element.appendChild(docLink);\n",
              "        }\n",
              "      </script>\n",
              "    </div>\n",
              "  </div>\n",
              "  "
            ]
          },
          "metadata": {},
          "execution_count": 70
        }
      ]
    },
    {
      "cell_type": "code",
      "source": [
        " # or\n",
        "#df['regular_food_type'] = df['regular_food_type'].replace({'HOME-MADE':1,'OUTSIDE':2, 'No Record':0, 'both':3})\n",
        "#df\n",
        "#df[' food_type'] = df[' food_type'].replace({'SOLID':1,'LIQUID':2, 'No Record':0, 'BOTH':3})\n",
        "#df\n",
        "#df['constipation'] = df['constipation'].replace({'Yes':1,'No':2, 'No Record':0, 'Maybe':3})\n",
        "#df\n",
        "#df[' less_energy_or_sleepy'] = df[' less_energy_or_sleepy'].replace({'Yes':1,'No':2, 'No Record':0, 'Maybe':3})\n",
        "#df\n",
        "#df['addiction'] = df['addiction'].replace({'Yes':1,'No':2, 'No Record':0, 'Maybe':3})\n",
        "#df\n",
        "#df['MoodSwings'] = df['MoodSwings'].replace({'Yes':1,'No':2, 'No Record':0, 'Maybe':3})\n",
        "#df"
      ],
      "metadata": {
        "colab": {
          "base_uri": "https://localhost:8080/"
        },
        "id": "RvpJNg3EsX4W",
        "outputId": "2e9149fc-f826-4d15-fedc-759e2f09c63a"
      },
      "execution_count": null,
      "outputs": [
        {
          "output_type": "stream",
          "name": "stdout",
          "text": [
            "[' quantity_consumed_per_day', '']\n",
            "[' food_type_2', ' food_type_3', ' food_type_NAN', ' less_energy_or_sleepy_2', ' less_energy_or_sleepy_3', ' less_energy_or_sleepy_NAN', ' meals_consumed_per_day_1', ' meals_consumed_per_day_2', ' meals_consumed_per_day_3', ' reason_friends influence', ' reason_friends influence ', ' reason_i dont eat outside food', ' reason_junk food availability at home', ' reason_junk food availability at home ', ' reason_living alone', 'MoodSwings_2', 'MoodSwings_3', 'MoodSwings_NAN', 'Number_of_outside_food_per_month', 'addiction_2', 'addiction_3', 'addiction_NAN', 'constipation_2.0', 'constipation_3.0', 'favourite_junkfood', 'regular_food_type_OUTSIDE', 'regular_food_type_both']\n"
          ]
        }
      ]
    },
    {
      "cell_type": "code",
      "source": [
        "x = df.drop(['regular_food_type_OUTSIDE','regular_food_type_both' ,'favourite_junkfood'] , axis = 1)\n",
        "y = df['regular_food_type_OUTSIDE']\n",
        "# splitting for 60 % test and 40% training\n",
        "xtrain , xtest , ytrain , ytest = train_test_split(x,y, test_size = 0.40 , random_state =42)\n",
        "xtest.shape\n",
        "logisticreg = LogisticRegression()\n",
        "logisticreg.fit(xtrain , ytrain)\n"
      ],
      "metadata": {
        "colab": {
          "base_uri": "https://localhost:8080/",
          "height": 74
        },
        "id": "1-LAz_hmHuZM",
        "outputId": "8f600a37-105f-4fdc-d951-e678e84a1836"
      },
      "execution_count": null,
      "outputs": [
        {
          "output_type": "execute_result",
          "data": {
            "text/plain": [
              "LogisticRegression()"
            ],
            "text/html": [
              "<style>#sk-container-id-3 {color: black;background-color: white;}#sk-container-id-3 pre{padding: 0;}#sk-container-id-3 div.sk-toggleable {background-color: white;}#sk-container-id-3 label.sk-toggleable__label {cursor: pointer;display: block;width: 100%;margin-bottom: 0;padding: 0.3em;box-sizing: border-box;text-align: center;}#sk-container-id-3 label.sk-toggleable__label-arrow:before {content: \"▸\";float: left;margin-right: 0.25em;color: #696969;}#sk-container-id-3 label.sk-toggleable__label-arrow:hover:before {color: black;}#sk-container-id-3 div.sk-estimator:hover label.sk-toggleable__label-arrow:before {color: black;}#sk-container-id-3 div.sk-toggleable__content {max-height: 0;max-width: 0;overflow: hidden;text-align: left;background-color: #f0f8ff;}#sk-container-id-3 div.sk-toggleable__content pre {margin: 0.2em;color: black;border-radius: 0.25em;background-color: #f0f8ff;}#sk-container-id-3 input.sk-toggleable__control:checked~div.sk-toggleable__content {max-height: 200px;max-width: 100%;overflow: auto;}#sk-container-id-3 input.sk-toggleable__control:checked~label.sk-toggleable__label-arrow:before {content: \"▾\";}#sk-container-id-3 div.sk-estimator input.sk-toggleable__control:checked~label.sk-toggleable__label {background-color: #d4ebff;}#sk-container-id-3 div.sk-label input.sk-toggleable__control:checked~label.sk-toggleable__label {background-color: #d4ebff;}#sk-container-id-3 input.sk-hidden--visually {border: 0;clip: rect(1px 1px 1px 1px);clip: rect(1px, 1px, 1px, 1px);height: 1px;margin: -1px;overflow: hidden;padding: 0;position: absolute;width: 1px;}#sk-container-id-3 div.sk-estimator {font-family: monospace;background-color: #f0f8ff;border: 1px dotted black;border-radius: 0.25em;box-sizing: border-box;margin-bottom: 0.5em;}#sk-container-id-3 div.sk-estimator:hover {background-color: #d4ebff;}#sk-container-id-3 div.sk-parallel-item::after {content: \"\";width: 100%;border-bottom: 1px solid gray;flex-grow: 1;}#sk-container-id-3 div.sk-label:hover label.sk-toggleable__label {background-color: #d4ebff;}#sk-container-id-3 div.sk-serial::before {content: \"\";position: absolute;border-left: 1px solid gray;box-sizing: border-box;top: 0;bottom: 0;left: 50%;z-index: 0;}#sk-container-id-3 div.sk-serial {display: flex;flex-direction: column;align-items: center;background-color: white;padding-right: 0.2em;padding-left: 0.2em;position: relative;}#sk-container-id-3 div.sk-item {position: relative;z-index: 1;}#sk-container-id-3 div.sk-parallel {display: flex;align-items: stretch;justify-content: center;background-color: white;position: relative;}#sk-container-id-3 div.sk-item::before, #sk-container-id-3 div.sk-parallel-item::before {content: \"\";position: absolute;border-left: 1px solid gray;box-sizing: border-box;top: 0;bottom: 0;left: 50%;z-index: -1;}#sk-container-id-3 div.sk-parallel-item {display: flex;flex-direction: column;z-index: 1;position: relative;background-color: white;}#sk-container-id-3 div.sk-parallel-item:first-child::after {align-self: flex-end;width: 50%;}#sk-container-id-3 div.sk-parallel-item:last-child::after {align-self: flex-start;width: 50%;}#sk-container-id-3 div.sk-parallel-item:only-child::after {width: 0;}#sk-container-id-3 div.sk-dashed-wrapped {border: 1px dashed gray;margin: 0 0.4em 0.5em 0.4em;box-sizing: border-box;padding-bottom: 0.4em;background-color: white;}#sk-container-id-3 div.sk-label label {font-family: monospace;font-weight: bold;display: inline-block;line-height: 1.2em;}#sk-container-id-3 div.sk-label-container {text-align: center;}#sk-container-id-3 div.sk-container {/* jupyter's `normalize.less` sets `[hidden] { display: none; }` but bootstrap.min.css set `[hidden] { display: none !important; }` so we also need the `!important` here to be able to override the default hidden behavior on the sphinx rendered scikit-learn.org. See: https://github.com/scikit-learn/scikit-learn/issues/21755 */display: inline-block !important;position: relative;}#sk-container-id-3 div.sk-text-repr-fallback {display: none;}</style><div id=\"sk-container-id-3\" class=\"sk-top-container\"><div class=\"sk-text-repr-fallback\"><pre>LogisticRegression()</pre><b>In a Jupyter environment, please rerun this cell to show the HTML representation or trust the notebook. <br />On GitHub, the HTML representation is unable to render, please try loading this page with nbviewer.org.</b></div><div class=\"sk-container\" hidden><div class=\"sk-item\"><div class=\"sk-estimator sk-toggleable\"><input class=\"sk-toggleable__control sk-hidden--visually\" id=\"sk-estimator-id-3\" type=\"checkbox\" checked><label for=\"sk-estimator-id-3\" class=\"sk-toggleable__label sk-toggleable__label-arrow\">LogisticRegression</label><div class=\"sk-toggleable__content\"><pre>LogisticRegression()</pre></div></div></div></div></div>"
            ]
          },
          "metadata": {},
          "execution_count": 71
        }
      ]
    },
    {
      "cell_type": "markdown",
      "source": [
        "SVM Model Evaluation"
      ],
      "metadata": {
        "id": "1PyZehtAC5bx"
      }
    },
    {
      "cell_type": "code",
      "source": [
        "#Import svm model\n",
        "from sklearn import svm\n",
        "\n",
        "#Create a svm Classifier\n",
        "clf = svm.SVC(kernel='linear') # Linear Kernel\n",
        "\n",
        "#Train the model using the training sets\n",
        "clf.fit(xtrain, ytrain)\n",
        "\n",
        "#Predict the response for test dataset\n",
        "y_pred = clf.predict(xtest)"
      ],
      "metadata": {
        "id": "5MLuZBUHdHUT"
      },
      "execution_count": null,
      "outputs": []
    },
    {
      "cell_type": "code",
      "source": [
        "# evaluating the model\n",
        "print(\"Accuracy:\",metrics.accuracy_score(ytest, y_pred))"
      ],
      "metadata": {
        "colab": {
          "base_uri": "https://localhost:8080/"
        },
        "id": "Q5IMNuCydc2b",
        "outputId": "4749fca1-6af7-4c7b-9059-68c4f8867747"
      },
      "execution_count": null,
      "outputs": [
        {
          "output_type": "stream",
          "name": "stdout",
          "text": [
            "Accuracy: 0.6935483870967742\n"
          ]
        }
      ]
    },
    {
      "cell_type": "code",
      "source": [
        "print(\"Precision:\",metrics.precision_score(ytest, y_pred))"
      ],
      "metadata": {
        "colab": {
          "base_uri": "https://localhost:8080/"
        },
        "id": "JJOvylpHeUfb",
        "outputId": "239c740f-fe19-41d3-a97e-709b43f64381"
      },
      "execution_count": null,
      "outputs": [
        {
          "output_type": "stream",
          "name": "stdout",
          "text": [
            "Precision: 0.0\n"
          ]
        },
        {
          "output_type": "stream",
          "name": "stderr",
          "text": [
            "/usr/local/lib/python3.10/dist-packages/sklearn/metrics/_classification.py:1344: UndefinedMetricWarning: Precision is ill-defined and being set to 0.0 due to no predicted samples. Use `zero_division` parameter to control this behavior.\n",
            "  _warn_prf(average, modifier, msg_start, len(result))\n"
          ]
        }
      ]
    },
    {
      "cell_type": "code",
      "source": [
        "print(\"Recall:\",metrics.recall_score(ytest, y_pred))"
      ],
      "metadata": {
        "colab": {
          "base_uri": "https://localhost:8080/"
        },
        "id": "NjbTlfKeed15",
        "outputId": "eabf6fa3-60b2-4735-f174-51000486b073"
      },
      "execution_count": null,
      "outputs": [
        {
          "output_type": "stream",
          "name": "stdout",
          "text": [
            "Recall: 0.0\n"
          ]
        }
      ]
    },
    {
      "cell_type": "markdown",
      "source": [
        "Polynomial kernel"
      ],
      "metadata": {
        "id": "5-RuQTEtDvrT"
      }
    },
    {
      "cell_type": "code",
      "source": [
        "from sklearn import svm\n",
        "\n",
        "clf = svm.SVC(kernel='poly') # polynomial Kernel\n",
        "clf.fit(xtrain, ytrain)\n",
        "y_pred = clf.predict(xtest)\n",
        "print(\"Accuracy:\",metrics.accuracy_score(ytest, y_pred))\n",
        "print(\"Precision:\",metrics.precision_score(ytest, y_pred))\n",
        "print(\"Recall:\",metrics.recall_score(ytest, y_pred))"
      ],
      "metadata": {
        "colab": {
          "base_uri": "https://localhost:8080/"
        },
        "id": "d4BatV76l31h",
        "outputId": "cc791d9c-214a-42a8-f184-beb38e8fda78"
      },
      "execution_count": null,
      "outputs": [
        {
          "output_type": "stream",
          "name": "stdout",
          "text": [
            "Accuracy: 0.6612903225806451\n",
            "Precision: 0.3333333333333333\n",
            "Recall: 0.10526315789473684\n"
          ]
        }
      ]
    },
    {
      "cell_type": "markdown",
      "source": [
        "Random Basis Function (RBF)"
      ],
      "metadata": {
        "id": "zJsbSzu8Dyh7"
      }
    },
    {
      "cell_type": "code",
      "source": [
        "#from sklearn.svm import SVC\n",
        "clf = svm.SVC(kernel='rbf',random_state=1, gamma=0.008, C=0.1) # rbf Kernel\n",
        "clf.fit(xtrain, ytrain)\n",
        "#svm.fit(xtrain, ytrain)\n",
        "y_pred = clf.predict(xtest)\n",
        "print(\"Accuracy:\",metrics.accuracy_score(ytest, y_pred))\n",
        "print(\"Precision:\",metrics.precision_score(ytest, y_pred))\n",
        "print(\"Recall:\",metrics.recall_score(ytest, y_pred))"
      ],
      "metadata": {
        "colab": {
          "base_uri": "https://localhost:8080/"
        },
        "id": "qwxsXLAYmQ8Q",
        "outputId": "12411afe-3512-4ca8-c374-97e5854c86cb"
      },
      "execution_count": null,
      "outputs": [
        {
          "output_type": "stream",
          "name": "stdout",
          "text": [
            "Accuracy: 0.6935483870967742\n",
            "Precision: 0.0\n",
            "Recall: 0.0\n"
          ]
        },
        {
          "output_type": "stream",
          "name": "stderr",
          "text": [
            "/usr/local/lib/python3.10/dist-packages/sklearn/metrics/_classification.py:1344: UndefinedMetricWarning: Precision is ill-defined and being set to 0.0 due to no predicted samples. Use `zero_division` parameter to control this behavior.\n",
            "  _warn_prf(average, modifier, msg_start, len(result))\n"
          ]
        }
      ]
    },
    {
      "cell_type": "markdown",
      "source": [
        "Sigmoid function"
      ],
      "metadata": {
        "id": "y3bj3BlTD26a"
      }
    },
    {
      "cell_type": "code",
      "source": [
        "clf = svm.SVC(kernel='sigmoid') # sigmoid Kernel\n",
        "clf.fit(xtrain, ytrain)\n",
        "y_pred = clf.predict(xtest)\n",
        "print(\"Accuracy:\",metrics.accuracy_score(ytest, y_pred))\n",
        "print(\"Precision:\",metrics.precision_score(ytest, y_pred))\n",
        "print(\"Recall:\",metrics.recall_score(ytest, y_pred))"
      ],
      "metadata": {
        "colab": {
          "base_uri": "https://localhost:8080/"
        },
        "id": "jjehFrmimYMQ",
        "outputId": "64764b46-1633-41a1-db91-b28f9dd99e28"
      },
      "execution_count": null,
      "outputs": [
        {
          "output_type": "stream",
          "name": "stdout",
          "text": [
            "Accuracy: 0.6451612903225806\n",
            "Precision: 0.3333333333333333\n",
            "Recall: 0.15789473684210525\n"
          ]
        }
      ]
    },
    {
      "cell_type": "code",
      "source": [
        "print(metrics.classification_report(ytest, y_pred))"
      ],
      "metadata": {
        "colab": {
          "base_uri": "https://localhost:8080/"
        },
        "id": "KYFLfjRWEDdJ",
        "outputId": "816157f4-dd9e-406a-ea78-6b4a388cdc02"
      },
      "execution_count": null,
      "outputs": [
        {
          "output_type": "stream",
          "name": "stdout",
          "text": [
            "              precision    recall  f1-score   support\n",
            "\n",
            "           0       0.70      0.86      0.77        43\n",
            "           1       0.33      0.16      0.21        19\n",
            "\n",
            "    accuracy                           0.65        62\n",
            "   macro avg       0.52      0.51      0.49        62\n",
            "weighted avg       0.59      0.65      0.60        62\n",
            "\n"
          ]
        }
      ]
    }
  ]
}